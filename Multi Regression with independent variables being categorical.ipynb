{
 "cells": [
  {
   "cell_type": "markdown",
   "metadata": {},
   "source": [
    "#### Multi Linear Regression having independent variables continous & categorical.  How will we deal this kind of data? So let us look at an example below where y is a dependent variable and continous in nature. x1 and x2 are independent variables where x1 is continous variable and x2 is categorical variable."
   ]
  },
  {
   "cell_type": "code",
   "execution_count": 23,
   "metadata": {},
   "outputs": [],
   "source": [
    "y=[145,69.9,315,144.9,134.9,369,95,228.9,149,295,388.5,75,130,174,334.9]\n",
    "x1=[1872,1954,4104,1524,1297,3278,1192,2252,1620,2466,3188,1061,1195,1552,2901]\n",
    "x2=[0,0,1,0,0,1,0,1,0,1,1,0,0,0,1]"
   ]
  },
  {
   "cell_type": "markdown",
   "metadata": {},
   "source": [
    "We will depict the scatter plot for this data where you can see  that data point classified for 1 and 0 are at higher and lower respectively."
   ]
  },
  {
   "cell_type": "code",
   "execution_count": 24,
   "metadata": {},
   "outputs": [
    {
     "data": {
      "image/png": "[encoded data removed]",
      "text/plain": [
       "<matplotlib.figure.Figure at 0x1d269c8a2b0>"
      ]
     },
     "metadata": {},
     "output_type": "display_data"
    }
   ],
   "source": [
    "import pandas as pd\n",
    "import matplotlib.pyplot as plt\n",
    "df = pd.DataFrame({'x1':x1,'x2':x2,'y':y})\n",
    "df1=df[df['x2']==1]\n",
    "df0=df[df['x2']==0]\n",
    "plt.scatter(df1.iloc[:,0],df1.iloc[:,2],color='b')\n",
    "plt.scatter(df0.iloc[:,0],df0.iloc[:,2],color='r')\n",
    "plt.xlabel('x1')\n",
    "plt.ylabel('y')\n",
    "plt.show()"
   ]
  },
  {
   "cell_type": "markdown",
   "metadata": {},
   "source": [
    "So we will have the linear equation as\n",
    "$$y'={b0}+{b1}x_1+{b2}x_2$$\n",
    "When the $x_2$ is 0 then the equation would be \n",
    "$$y'={b0}+{b1}x_1$$\n",
    "When the $x_2$ is 1 then the equation would be\n",
    "$$y'=({b0}+{b2})+{b1}x_2$$"
   ]
  },
  {
   "cell_type": "code",
   "execution_count": 26,
   "metadata": {},
   "outputs": [],
   "source": [
    "import numpy as np\n",
    "def coeff(x,y):\n",
    "    b_num = sum([(x[i] - np.mean(x))*(y[i] -np.mean(y)) for i in range(len(x)) ])\n",
    "    b_den = sum([(x[i]-np.mean(x))**2 for i in range(len(x))])\n",
    "    b = b_num/b_den\n",
    "    return b\n"
   ]
  },
  {
   "cell_type": "code",
   "execution_count": 32,
   "metadata": {},
   "outputs": [
    {
     "name": "stdout",
     "output_type": "stream",
     "text": [
      "x1_slope is  0.1047798521604641\n",
      "x2 slope is  197.69444444444446\n",
      "intercept is  -16.46366863730387\n"
     ]
    }
   ],
   "source": [
    "b1 = coeff(x1,y)\n",
    "b2 = coeff(x2,y)\n",
    "b0 = np.mean(y) - b1 * np.mean(x1)# - b2 * np.mean(x2)\n",
    "print('x1_slope is ',b1)\n",
    "print('x2 slope is ',b2)\n",
    "print('intercept is ',b0)"
   ]
  },
  {
   "cell_type": "code",
   "execution_count": 28,
   "metadata": {},
   "outputs": [],
   "source": [
    "def linearModel(X,y):\n",
    "    from sklearn.linear_model import LinearRegression  \n",
    "    regressor = LinearRegression()  \n",
    "    regressor.fit(X, y)\n",
    "    y_pred = regressor.predict(X) \n",
    "    from sklearn import metrics  \n",
    "    print('Mean Absolute Error:', metrics.mean_absolute_error(y, y_pred))  \n",
    "    print('Mean Squared Error:', metrics.mean_squared_error(y, y_pred))  \n",
    "    print('Root Mean Squared Error:', np.sqrt(metrics.mean_squared_error(y, y_pred)))\n",
    "    print('Co-efficients :',regressor.coef_)\n",
    "    print('Intercept :',regressor.intercept_)"
   ]
  },
  {
   "cell_type": "code",
   "execution_count": 29,
   "metadata": {},
   "outputs": [
    {
     "name": "stdout",
     "output_type": "stream",
     "text": [
      "Mean Absolute Error: 32.02841864924364\n",
      "Mean Squared Error: 1465.7141866426964\n",
      "Root Mean Squared Error: 38.28464687890821\n",
      "Co-efficients : [3.93649336e-02 1.36387934e+02]\n",
      "Intercept : 66.16060281206396\n"
     ]
    }
   ],
   "source": [
    "X = df.iloc[:, :2].values  \n",
    "y = df.iloc[:, 2].values  \n",
    "linearModel(X,y)"
   ]
  },
  {
   "cell_type": "code",
   "execution_count": 30,
   "metadata": {},
   "outputs": [
    {
     "data": {
      "text/plain": [
       "array([[1872,    0],\n",
       "       [1954,    0],\n",
       "       [4104,    1],\n",
       "       [1524,    0],\n",
       "       [1297,    0],\n",
       "       [3278,    1],\n",
       "       [1192,    0],\n",
       "       [2252,    1],\n",
       "       [1620,    0],\n",
       "       [2466,    1],\n",
       "       [3188,    1],\n",
       "       [1061,    0],\n",
       "       [1195,    0],\n",
       "       [1552,    0],\n",
       "       [2901,    1]], dtype=int64)"
      ]
     },
     "execution_count": 30,
     "metadata": {},
     "output_type": "execute_result"
    }
   ],
   "source": [
    "X"
   ]
  },
  {
   "cell_type": "code",
   "execution_count": 31,
   "metadata": {},
   "outputs": [
    {
     "data": {
      "text/plain": [
       "array([145. ,  69.9, 315. , 144.9, 134.9, 369. ,  95. , 228.9, 149. ,\n",
       "       295. , 388.5,  75. , 130. , 174. , 334.9])"
      ]
     },
     "execution_count": 31,
     "metadata": {},
     "output_type": "execute_result"
    }
   ],
   "source": [
    "y"
   ]
  },
  {
   "cell_type": "code",
   "execution_count": null,
   "metadata": {},
   "outputs": [],
   "source": []
  },
  {
   "cell_type": "code",
   "execution_count": null,
   "metadata": {},
   "outputs": [],
   "source": []
  },
  {
   "cell_type": "code",
   "execution_count": null,
   "metadata": {},
   "outputs": [],
   "source": []
  },
  {
   "cell_type": "code",
   "execution_count": null,
   "metadata": {},
   "outputs": [],
   "source": []
  },
  {
   "cell_type": "code",
   "execution_count": null,
   "metadata": {},
   "outputs": [],
   "source": []
  },
  {
   "cell_type": "code",
   "execution_count": null,
   "metadata": {},
   "outputs": [],
   "source": []
  },
  {
   "cell_type": "code",
   "execution_count": null,
   "metadata": {},
   "outputs": [],
   "source": []
  },
  {
   "cell_type": "code",
   "execution_count": null,
   "metadata": {},
   "outputs": [],
   "source": []
  }
 ],
 "metadata": {
  "kernelspec": {
   "display_name": "Python 3",
   "language": "python",
   "name": "python3"
  },
  "language_info": {
   "codemirror_mode": {
    "name": "ipython",
    "version": 3
   },
   "file_extension": ".py",
   "mimetype": "text/x-python",
   "name": "python",
   "nbconvert_exporter": "python",
   "pygments_lexer": "ipython3",
   "version": "3.6.4"
  }
 },
 "nbformat": 4,
 "nbformat_minor": 2
}
