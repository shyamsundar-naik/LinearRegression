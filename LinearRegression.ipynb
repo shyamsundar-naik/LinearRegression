{
 "cells": [
  {
   "cell_type": "markdown",
   "metadata": {},
   "source": [
    "## Very Basic of Simple Linear Regression"
   ]
  },
  {
   "cell_type": "markdown",
   "metadata": {},
   "source": [
    "#### Before we speak about the Linear Regression, let us understand what Regression is?\n",
    "Regression is a technique for determining the statistical relationship between two or more variables where a change in a dependent variable is associated with, and depends on, a change in one or more independent variables.\n",
    "\n",
    "Linear regression is a linear approach to modelling the relationship between a scalar response (or dependent variable) and one or more explanatory variables (or independent variables).\n",
    "\n",
    "Let me explain using the independent variable and dependent variable. The example is about the Tip amount and bill generated in the hotel. We have list of data for the Tip amount and now using the linear regression you will be predicting next Tip. "
   ]
  },
  {
   "cell_type": "code",
   "execution_count": 2,
   "metadata": {},
   "outputs": [],
   "source": [
    "TipAmount = [10,20,5,25,8,10]"
   ]
  },
  {
   "cell_type": "markdown",
   "metadata": {},
   "source": [
    "#### We have six customers who payed the tip amount in rupees. Now I want to predict the next tip. At this situation it will be difficult to predict but we need to predict there is no go. Let us view this data in the graph."
   ]
  },
  {
   "cell_type": "code",
   "execution_count": 3,
   "metadata": {},
   "outputs": [
    {
     "data": {
      "text/plain": [
       "<matplotlib.figure.Figure at 0x24c04d48cc0>"
      ]
     },
     "metadata": {},
     "output_type": "display_data"
    }
   ],
   "source": [
    "import matplotlib.pyplot as plt\n",
    "import numpy as np\n",
    "serialno = [1,2,3,4,5,6]\n",
    "means = [np.mean(TipAmount) for i in range(len(serialno))]\n",
    "plt.scatter(serialno, TipAmount , alpha=0.5)\n",
    "plt.title('Scatter plot if only we have the Tip Amount')\n",
    "plt.xlabel('Serial No')\n",
    "plt.ylabel('Tip Amount in Rs')\n",
    "plt.plot(serialno,means,\"r--\")\n",
    "\n",
    "\n",
    "plt.show()"
   ]
  },
  {
   "cell_type": "markdown",
   "metadata": {},
   "source": [
    "## So the best value for next tip that we can provide is mean of entire tips collection. So the value is 13.0 we expect the next tip amount. \n",
    "We say approximately that  the tip amount is 13 but we are not right so let us find the error of this tip collection. If we measure the distance between point and mean will provide the error of the first point so these values are called Residuals. When we add up these residual it will turn to 0. We square these residuals and add up which will provide the Sum  of Squared Error or this can be called as sum of squared residuals. We will see all this in the following section "
   ]
  },
  {
   "cell_type": "code",
   "execution_count": 4,
   "metadata": {},
   "outputs": [
    {
     "name": "stdout",
     "output_type": "stream",
     "text": [
      "We have residual error i.e, distance from each point to mean  [-3.0, 7.0, -8.0, 12.0, -5.0, -3.0]\n",
      "As we said earlier when we add up the value will be zero of the Residual Error : 0.0\n",
      "Therefore the sum of squared error is  300.0\n"
     ]
    }
   ],
   "source": [
    "residualError = [x - np.mean(TipAmount) for x in TipAmount]#We got the residual error for the Tip Amount\n",
    "print('We have residual error i.e, distance from each point to mean ',residualError)\n",
    "print('As we said earlier when we add up the value will be zero of the Residual Error :', sum(residualError))\n",
    "residSquaredError = [error**2 for error in residualError]\n",
    "print('Therefore the sum of squared error is ', sum(residSquaredError))"
   ]
  },
  {
   "cell_type": "markdown",
   "metadata": {},
   "source": [
    "### Sum of Squared Error is 300. Our objective in linear is to minimize the sum of squared error using the linear regression. How can we do this?\n",
    "We can do this by introducing another independent variable. \n",
    "Before we introduce to the independent let us look at the line algebraic equation.\n",
    "#### y = mx + c\n",
    "So x is the independent variable in our case it would be bill amount, y is the dependent variable (Tip Amount), m is the slope of the given data point and c is the y-intercept of line.\n",
    "Slope here means rise/run. Y-intercept means the line crossing in the y axis.\n",
    "\n",
    "This can be written as below b0 is the slope and b1 is the y-intercept.\n",
    "$$y`= b{0} + b{1}x$$\n",
    "\n",
    "Let me introduce to you with Bill Amount data"
   ]
  },
  {
   "cell_type": "code",
   "execution_count": 5,
   "metadata": {},
   "outputs": [],
   "source": [
    "BillAmount = [120,150,50,175,75,132]"
   ]
  },
  {
   "cell_type": "code",
   "execution_count": 6,
   "metadata": {},
   "outputs": [
    {
     "data": {
      "image/png": "[encoded data removed]",
      "text/plain": [
       "<matplotlib.figure.Figure at 0x24c04b3c0b8>"
      ]
     },
     "metadata": {},
     "output_type": "display_data"
    }
   ],
   "source": [
    "plt.scatter(BillAmount, TipAmount , alpha=0.5)\n",
    "plt.title('Scatter plot where we are showing for Bill Amount paid the tip amount given')\n",
    "plt.xlabel('Bill Amount')\n",
    "plt.ylabel('Tip Amount in Rs')\n",
    "\n",
    "plt.scatter(np.mean(BillAmount), np.mean(TipAmount), marker=\"x\", color='r')\n",
    "plt.show()"
   ]
  },
  {
   "cell_type": "markdown",
   "metadata": {},
   "source": [
    "Above plot shows that for Bill Amount paid the Tip Amount given. The graph show that for the higher bill amount the higher tip is provided.You can see that a x mark which is the centroid of this plot. Centroid means the mean of Bill Amount and Tip Amount plotted in the graph. To reduce the sum of squared errors the line has to pass through the centroid."
   ]
  },
  {
   "cell_type": "markdown",
   "metadata": {},
   "source": [
    "When we had only the TipAmount the best fit line was the mean of the Tip Amount. Now introducing the Bill Amount the best fit line has to be calculated. To calculate the best fit line we need to use the line equation. Now we need to calculate the slope (b1) and y-intercept (b0). To calculate y-intercept we need to first calculate slope. Below is the algebraic equation for the slope\n",
    "\n",
    "$$b{1}=\\sum_{i}^n\\frac{(x_{i}-\\bar x)(y_{i}-\\bar y)}{(x_i - \\bar x)^2}$$\n",
    "To calculate the y-intercept $b{0}$ below is the formula\n",
    "$$b{0}=\\bar y - b{1}\\bar x$$\n"
   ]
  },
  {
   "cell_type": "markdown",
   "metadata": {},
   "source": [
    "We will calculate this in the code. To do this we need to calculate the deviations of bill amount and tip amount. Now let us find the slope "
   ]
  },
  {
   "cell_type": "code",
   "execution_count": 7,
   "metadata": {},
   "outputs": [
    {
     "name": "stdout",
     "output_type": "stream",
     "text": [
      "Slope of line for this data is : 0.1479890310786106\n"
     ]
    }
   ],
   "source": [
    "deviationsBillAmount = [x-np.mean(BillAmount) for x in BillAmount]\n",
    "deviationsTipAmount = [y-np.mean(TipAmount) for y in TipAmount]\n",
    "deviationBillAmountSquare = [x**2 for x in deviationsBillAmount]\n",
    "productDeviations = [deviationsBillAmount[i] * deviationsTipAmount[i] for i in range(len(deviationsTipAmount))]\n",
    "slope = sum(productDeviations)/sum(deviationBillAmountSquare)\n",
    "print('Slope of line for this data is :', slope)"
   ]
  },
  {
   "cell_type": "markdown",
   "metadata": {},
   "source": [
    "Now we will find the Y-intercept of line for given dataset."
   ]
  },
  {
   "cell_type": "code",
   "execution_count": 8,
   "metadata": {},
   "outputs": [
    {
     "name": "stdout",
     "output_type": "stream",
     "text": [
      "Y-Intercept of line for this data is : -4.314716636197442\n"
     ]
    }
   ],
   "source": [
    "yintercept = np.mean(TipAmount) - slope * np.mean(BillAmount)\n",
    "print('Y-Intercept of line for this data is :', yintercept)"
   ]
  },
  {
   "cell_type": "markdown",
   "metadata": {},
   "source": [
    "So we have the slope and yintercept value.Now if we substitute values to the linear equation we will have below results.\n",
    "$$y^` = -4.3147 + 0.1479 x$$"
   ]
  },
  {
   "cell_type": "markdown",
   "metadata": {},
   "source": [
    "This means that for every bill amount 1 rupee increase we would find the tip increase in 0.1479 paise. If bill amount is 0 then the tip amount is -4.3147. Let us calculate the tip amount based on this equation."
   ]
  },
  {
   "cell_type": "code",
   "execution_count": 9,
   "metadata": {},
   "outputs": [],
   "source": [
    "yhat = [yintercept + slope * x for x in BillAmount]"
   ]
  },
  {
   "cell_type": "code",
   "execution_count": 10,
   "metadata": {},
   "outputs": [
    {
     "data": {
      "image/png": "[encoded data removed]",
      "text/plain": [
       "<matplotlib.figure.Figure at 0x24c04a74fd0>"
      ]
     },
     "metadata": {},
     "output_type": "display_data"
    }
   ],
   "source": [
    "plt.scatter(BillAmount, TipAmount , alpha=0.5)\n",
    "plt.title('Scatter plot - Bill Amount paid for tip amount given')\n",
    "plt.xlabel('Bill Amount')\n",
    "plt.ylabel('Tip Amount in Rs')\n",
    "\n",
    "plt.scatter(np.mean(BillAmount), np.mean(TipAmount), marker=\"x\", color='r')\n",
    "plt.plot(BillAmount,yhat,\"r--\")\n",
    "plt.show()"
   ]
  },
  {
   "cell_type": "markdown",
   "metadata": {},
   "source": [
    "In above graph you can see that line passing through the centroid. If we calculate the sum of squared errors for this line we will see that the sum of squared errors is reduced. Let us examine below"
   ]
  },
  {
   "cell_type": "code",
   "execution_count": 11,
   "metadata": {},
   "outputs": [
    {
     "name": "stdout",
     "output_type": "stream",
     "text": [
      "Now the sum of squared error due to regression is  60.40575868372944\n"
     ]
    }
   ],
   "source": [
    "SSE = [(TipAmount[i] - yhat[i])**2 for i in range(len(TipAmount))]\n",
    "print('Now the sum of squared error due to regression is ', sum(SSE))"
   ]
  },
  {
   "cell_type": "markdown",
   "metadata": {},
   "source": [
    "So our basic objective has been achieved so when we had only the tip amount then Sum of Squared error was 300 and when we introduced independent variable then sum of squared error is 60. We can call the sum of squared error for only Tip Amount as the sum of squared total(SST). Therefore\n",
    "$$SST = SSR + SSE $$\n",
    "$$SSR = SST - SSE $$\n",
    "Here $SSR$ is Sum of Squared due to Regression, $SST$ is Sum of Squared Total and $SSE$ is the Sum of Squared Error. "
   ]
  },
  {
   "cell_type": "code",
   "execution_count": 12,
   "metadata": {},
   "outputs": [
    {
     "name": "stdout",
     "output_type": "stream",
     "text": [
      "Sum of Squared  due to Regression is  239.59424131627057\n"
     ]
    }
   ],
   "source": [
    "SSR = sum(residSquaredError) - sum(SSE)\n",
    "print('Sum of Squared  due to Regression is ',SSR)"
   ]
  },
  {
   "cell_type": "markdown",
   "metadata": {},
   "source": [
    "So now let us find the how this line is the good fit for predicting the values. This is called the coefficient of determination of the good fit line. Now how of our estimated regression equation fit our data can be found through coefficient.\n",
    "$$ Coefficient of Determination = r^2 = \\frac{SSR}{SST}$$"
   ]
  },
  {
   "cell_type": "code",
   "execution_count": 13,
   "metadata": {},
   "outputs": [
    {
     "name": "stdout",
     "output_type": "stream",
     "text": [
      "We can conclude that  79.86474710542353 % of the total sum of squares can be explained by estimated regression equation to predict the tip amount\n",
      "The remainder of this is error i.e.,  20.135252894576467\n"
     ]
    }
   ],
   "source": [
    "coDet = SSR/sum(residSquaredError)\n",
    "print('We can conclude that ',(coDet * 100),'% of the total sum of squares can be explained by estimated regression equation to predict the tip amount')\n",
    "print('The remainder of this is error i.e., ', 100 -(coDet * 100))"
   ]
  },
  {
   "cell_type": "markdown",
   "metadata": {},
   "source": [
    "Therefore the formula of the $SST$ is\n",
    "$$ SST = \\sum_{i}^n(y_i - \\bar y)^2 $$ \n",
    "and the formula for $SSE$ is \n",
    "$$ SSE = \\sum_{i}^n(y_i -y')^2 $$ \n",
    "\n",
    "This is the equation for the estimated regression to determine coefficient of determination. "
   ]
  },
  {
   "cell_type": "markdown",
   "metadata": {},
   "source": [
    "## Regression of Standard Score"
   ]
  },
  {
   "cell_type": "markdown",
   "metadata": {},
   "source": [
    "We will calculate the standard scores for each of the data. To calculate standard score\n",
    "$$ z_{x_i} = \\frac{x_i - \\bar x}{\\sigma_ x}$$ \n",
    "Here each value is calculated by subtracting with mean and divided by standard deviation. Below are standard scores calculated for BillAmount and TipAmount"
   ]
  },
  {
   "cell_type": "code",
   "execution_count": 14,
   "metadata": {},
   "outputs": [
    {
     "name": "stdout",
     "output_type": "stream",
     "text": [
      "The standard scores for the Bill Amount are  [0.07025677636519141, 0.7728245400171055, -1.569068005489275, 1.3582976763937007, -0.9835948691126798, 0.35128388182595705]\n",
      "The standard scores for the Tip Amount are  [-0.4242640687119285, 0.9899494936611665, -1.131370849898476, 1.697056274847714, -0.7071067811865475, -0.4242640687119285]\n"
     ]
    }
   ],
   "source": [
    "stdTipAmount = np.std(TipAmount)\n",
    "stdBillAmount = np.std(BillAmount)\n",
    "meanTipAmount = np.mean(TipAmount)\n",
    "meanBillAmount = np.mean(BillAmount)\n",
    "zscoresBillAmount = [(x - meanBillAmount)/stdBillAmount for x in BillAmount]\n",
    "zscoresTipAmount = [(x - meanTipAmount)/stdTipAmount for x in TipAmount]\n",
    "print('The standard scores for the Bill Amount are ',zscoresBillAmount)\n",
    "print('The standard scores for the Tip Amount are ',zscoresTipAmount)"
   ]
  },
  {
   "cell_type": "markdown",
   "metadata": {},
   "source": [
    "### We interpret this information as Bill Amount of 120 is 0.07 standard deviation away from the mean. Same way this is interpreted for the Tip Amount. We can see this in our normal distribution wave as shown below."
   ]
  },
  {
   "cell_type": "code",
   "execution_count": 15,
   "metadata": {},
   "outputs": [
    {
     "data": {
      "image/png": "[encoded data removed]",
      "text/plain": [
       "<matplotlib.figure.Figure at 0x24c0693bef0>"
      ]
     },
     "metadata": {},
     "output_type": "display_data"
    }
   ],
   "source": [
    "import matplotlib.pyplot as plt\n",
    "import numpy as np\n",
    "import matplotlib.mlab as mlab\n",
    "import math\n",
    "\n",
    "mu = 0\n",
    "variance = 1\n",
    "sigma = math.sqrt(variance)\n",
    "x = np.linspace(mu - 3*sigma, mu + 3*sigma, 100)\n",
    "plt.plot(x,mlab.normpdf(x, mu, sigma))\n",
    "y = [0,0,0,0,0,0]\n",
    "plt.plot([0,0,0,0,0,0,0,0,0],[0,0.05,0.10,0.15,0.20,0.25,0.30,0.35,0.40],'r--')\n",
    "plt.scatter(zscoresBillAmount,y,alpha=0.5)\n",
    "plt.show()\n"
   ]
  },
  {
   "cell_type": "markdown",
   "metadata": {},
   "source": [
    "Above graph shows the standard score points in the normal distribution for the Bill Amount. I will show below the standard scores for Tip Amount in the normal distribution."
   ]
  },
  {
   "cell_type": "code",
   "execution_count": 16,
   "metadata": {},
   "outputs": [
    {
     "data": {
      "image/png": "[encoded data removed]",
      "text/plain": [
       "<matplotlib.figure.Figure at 0x24c059347f0>"
      ]
     },
     "metadata": {},
     "output_type": "display_data"
    }
   ],
   "source": [
    "plt.plot(x,mlab.normpdf(x, mu, sigma))\n",
    "y = [0,0,0,0,0,0]\n",
    "plt.plot([0,0,0,0,0,0,0,0,0],[0,0.05,0.10,0.15,0.20,0.25,0.30,0.35,0.40],'r--')\n",
    "plt.scatter(zscoresTipAmount,y,alpha=0.5)\n",
    "plt.show()"
   ]
  },
  {
   "cell_type": "markdown",
   "metadata": {},
   "source": [
    "We will check the correlation of the raw data and standard scores of data. We will see that correlation is same."
   ]
  },
  {
   "cell_type": "code",
   "execution_count": 17,
   "metadata": {},
   "outputs": [
    {
     "name": "stdout",
     "output_type": "stream",
     "text": [
      "Corelation of the raw data is  0.8936707844918257\n",
      "Corelation of the standard scores of data is  0.8936707844918257\n"
     ]
    }
   ],
   "source": [
    "print('Corelation of the raw data is ',np.corrcoef(BillAmount,TipAmount)[0,1])\n",
    "print('Corelation of the standard scores of data is ',np.corrcoef(zscoresBillAmount,zscoresTipAmount)[0,1])"
   ]
  },
  {
   "cell_type": "markdown",
   "metadata": {},
   "source": [
    "This is one of the observation. We will see other observation in calculating the slope of the regression line. We will compare the earlier calculated slope with slope calculated through corelation.\n",
    "$$ {Regression Slope} = {pearson correlation} \\times \\frac{SD of y}{SD of x} $$"
   ]
  },
  {
   "cell_type": "code",
   "execution_count": 18,
   "metadata": {},
   "outputs": [
    {
     "name": "stdout",
     "output_type": "stream",
     "text": [
      "Earlier we had calculated the slope of regression line, the value is  0.1479890310786106\n",
      "Now we have calculated the slope of regression line using correlation, the value is  0.1479890310786106\n"
     ]
    }
   ],
   "source": [
    "rSlope = np.corrcoef(BillAmount,TipAmount)[0,1] * (np.std(TipAmount)/np.std(BillAmount))\n",
    "print('Earlier we had calculated the slope of regression line, the value is ',slope)\n",
    "print('Now we have calculated the slope of regression line using correlation, the value is ',slope)"
   ]
  },
  {
   "cell_type": "markdown",
   "metadata": {},
   "source": [
    "Above we can see that slope values are same. Same way we can calculate the correlation. "
   ]
  },
  {
   "cell_type": "markdown",
   "metadata": {},
   "source": [
    "## Mean Squared Error"
   ]
  },
  {
   "cell_type": "markdown",
   "metadata": {},
   "source": [
    "We will calculate the Mean Squared error for the regression estimation we have made. Below is the equation for calculating\n",
    "$$ {MSE} = \\frac{SSE}{n}$$\n",
    "Here the SSE is the Sum of Squared Error and the n-2 is the degrees of freedom as we are using sample and 2 because we are calculating the slope and Intercept. We will now see through code the value.\n"
   ]
  },
  {
   "cell_type": "code",
   "execution_count": null,
   "metadata": {},
   "outputs": [],
   "source": []
  },
  {
   "cell_type": "code",
   "execution_count": 46,
   "metadata": {},
   "outputs": [
    {
     "name": "stdout",
     "output_type": "stream",
     "text": [
      "Mean Squared Error of this regression estimation is  10.067626447288239\n"
     ]
    }
   ],
   "source": [
    "n = len(BillAmount)\n",
    "MSE = sum(SSE)/(n)\n",
    "print('Mean Squared Error of this regression estimation is ', MSE )"
   ]
  },
  {
   "cell_type": "markdown",
   "metadata": {},
   "source": [
    "## Standard Error of this regression estimation.\n",
    "To calculate the standard error of this estiamtion the equation is as below:\n",
    "$$z_{error} = \\sqrt{MSE} $$\n",
    "The Standard error is also called as root mean square error.\n"
   ]
  },
  {
   "cell_type": "code",
   "execution_count": 47,
   "metadata": {},
   "outputs": [
    {
     "name": "stdout",
     "output_type": "stream",
     "text": [
      "Root Mean Square Error of the regression Estimation is  3.172952323513267\n"
     ]
    }
   ],
   "source": [
    "print('Root Mean Square Error of the regression Estimation is ',math.sqrt(MSE))"
   ]
  },
  {
   "cell_type": "markdown",
   "metadata": {},
   "source": [
    "Now few questions on the \n",
    "1. How much variance in the dependent variable is explained by model/ independent variable?\n",
    "   we look for the value $r^2$ or Adjusted-$r^2$\n",
    "2. Does a statistically significiant linear relationship exist between independent variable and dependent variable?\n",
    "\n",
    "   a. Is the overall F-test or t-test significant?\n",
    "\n",
    "   b. Can we reject the null hypothesis that the slope $b1$ of Regression line is ZERO?\n",
    "   \n",
    "   c. Does the confidence interval for the slope $b1$ contain zero?"
   ]
  },
  {
   "cell_type": "markdown",
   "metadata": {},
   "source": [
    "The standard error of estimate is the standard deviation of the error term. Since MSE is $\\sigma^2$, the standard error is square root of MSE.\n",
    "$$s = \\sqrt{MSE} = \\sqrt\\frac{SSE}{n}$$"
   ]
  },
  {
   "cell_type": "markdown",
   "metadata": {},
   "source": [
    "## Confidence interval of slope\n",
    "We have learnt in earlier textbooks that we use mean for confidence interval. This means for 95% of confident mean lies in the range of calculated value of the population. Interms of slope we can say that for 95% confident of slope lies in range of calculated value of the population. To calculate this we have following formula\n",
    "$${b1}\\pm {t_{\\alpha/2}}\\times{s_{b1}}$$\n",
    "We know this much clear that $b1$ is slope of Regression and $t_{\\alpha/2}\\times{s_{b1}}$ is the margin of error.\n",
    "In margin of error we have t-value for 95% confident which are standardize which we look in books for degrees of freedom 2 and 95% confident interval what is the value. $s_{b1}$ is the standard deviation of the slope.\n",
    "To calculate standard deviation of slope below is the formula\n",
    "$$s_{b1}=\\frac{s}{\\sqrt{\\sum_{i=0}^n(x_i - \\bar x)^2}}$$\n",
    "Here s is the standard error. We will calculate the standard deviation of slope."
   ]
  },
  {
   "cell_type": "code",
   "execution_count": 21,
   "metadata": {},
   "outputs": [
    {
     "name": "stdout",
     "output_type": "stream",
     "text": [
      "Standard deviation of Slope is  0.03715356696841435\n",
      "t-value for the 95% confidence in t distribution table is 2.776\n"
     ]
    }
   ],
   "source": [
    "SDSlope = math.sqrt(MSE)/math.sqrt(sum(deviationBillAmountSquare))\n",
    "print('Standard deviation of Slope is ',SDSlope)\n",
    "print('t-value for the 95% confidence in t distribution table is 2.776') "
   ]
  },
  {
   "cell_type": "markdown",
   "metadata": {},
   "source": [
    "We will calculate the range of the slope that will be in the population for 95% confidence interval."
   ]
  },
  {
   "cell_type": "code",
   "execution_count": 22,
   "metadata": {},
   "outputs": [
    {
     "name": "stdout",
     "output_type": "stream",
     "text": [
      "So we can say with 95% confidence the slope of population in this range ( 0.04485072917429239 , 0.25112733298292883 )\n"
     ]
    }
   ],
   "source": [
    "range1 = slope + 2.776 * SDSlope\n",
    "range2 = slope - 2.776 * SDSlope\n",
    "print('So we can say with 95% confidence the slope of population in this range (',range2,',',range1,')')"
   ]
  },
  {
   "cell_type": "markdown",
   "metadata": {},
   "source": [
    "We are 95% confident that interval (0.04485,0.251127) contains the true slope of the regression line.\n",
    "So now does this interval contains zero?\n",
    "No\n",
    "So we can reject that null hypothesis that slope contains zero. So we have the proof as interval which proves that interval does not contain zero. The alternate hypothesis is accepted.\n",
    "\n",
    "### Therefore null hypothesis is the slope of regression line contains zero, then there is no significant relationship. But in our case there is no zero.\n",
    "$$ t_{statistic} = \\frac{b1}{s_{b1}}$$"
   ]
  },
  {
   "cell_type": "code",
   "execution_count": 23,
   "metadata": {},
   "outputs": [
    {
     "name": "stdout",
     "output_type": "stream",
     "text": [
      "We can see that t statistic is greater than t critical i.e, 3.9831715540104584 > 2.7776\n",
      "Therefore we can say that our t value is significant because our t value greater the critical value\n"
     ]
    }
   ],
   "source": [
    "tstatistic = slope/ SDSlope\n",
    "print('We can see that t statistic is greater than t critical i.e,', tstatistic,'> 2.7776')\n",
    "print('Therefore we can say that our t value is significant because our t value greater the critical value')\n"
   ]
  },
  {
   "cell_type": "code",
   "execution_count": 35,
   "metadata": {},
   "outputs": [
    {
     "name": "stdout",
     "output_type": "stream",
     "text": [
      "   Bill  Tip\n",
      "0   120   10\n",
      "1   150   20\n",
      "2    50    5\n",
      "3   175   25\n",
      "4    75    8\n",
      "5   132   10\n"
     ]
    }
   ],
   "source": []
  },
  {
   "cell_type": "code",
   "execution_count": 37,
   "metadata": {},
   "outputs": [],
   "source": [
    "import pandas as pd\n",
    "#valk = np.array(BillAmount)\n",
    "#df = pd.DataFrame(values=valk)\n",
    "#valk\n",
    "df = pd.DataFrame({'Bill':BillAmount,'Tip':TipAmount})\n",
    "X = df.iloc[:, :-1].values  \n",
    "y = df.iloc[:, 1].values  "
   ]
  },
  {
   "cell_type": "code",
   "execution_count": 38,
   "metadata": {},
   "outputs": [
    {
     "data": {
      "text/plain": [
       "LinearRegression(copy_X=True, fit_intercept=True, n_jobs=1, normalize=False)"
      ]
     },
     "execution_count": 38,
     "metadata": {},
     "output_type": "execute_result"
    }
   ],
   "source": [
    "from sklearn.linear_model import LinearRegression  \n",
    "regressor = LinearRegression()  \n",
    "regressor.fit(X, y)"
   ]
  },
  {
   "cell_type": "code",
   "execution_count": 39,
   "metadata": {},
   "outputs": [
    {
     "name": "stdout",
     "output_type": "stream",
     "text": [
      "-4.314716636197442\n"
     ]
    }
   ],
   "source": [
    "print(regressor.intercept_) "
   ]
  },
  {
   "cell_type": "code",
   "execution_count": 40,
   "metadata": {},
   "outputs": [
    {
     "name": "stdout",
     "output_type": "stream",
     "text": [
      "[0.14798903]\n"
     ]
    }
   ],
   "source": [
    "print(regressor.coef_)"
   ]
  },
  {
   "cell_type": "code",
   "execution_count": 41,
   "metadata": {},
   "outputs": [
    {
     "name": "stdout",
     "output_type": "stream",
     "text": [
      "-4.314716636197442\n"
     ]
    }
   ],
   "source": [
    "print(yintercept)"
   ]
  },
  {
   "cell_type": "code",
   "execution_count": 43,
   "metadata": {},
   "outputs": [
    {
     "name": "stdout",
     "output_type": "stream",
     "text": [
      "0.1479890310786106\n"
     ]
    }
   ],
   "source": [
    "print(slope)"
   ]
  },
  {
   "cell_type": "code",
   "execution_count": 44,
   "metadata": {},
   "outputs": [],
   "source": [
    "y_pred = regressor.predict(X) "
   ]
  },
  {
   "cell_type": "code",
   "execution_count": 45,
   "metadata": {},
   "outputs": [
    {
     "name": "stdout",
     "output_type": "stream",
     "text": [
      "Mean Absolute Error: 2.8879341864716643\n",
      "Mean Squared Error: 10.067626447288239\n",
      "Root Mean Squared Error: 3.172952323513267\n"
     ]
    }
   ],
   "source": [
    "from sklearn import metrics  \n",
    "print('Mean Absolute Error:', metrics.mean_absolute_error(y, y_pred))  \n",
    "print('Mean Squared Error:', metrics.mean_squared_error(y, y_pred))  \n",
    "print('Root Mean Squared Error:', np.sqrt(metrics.mean_squared_error(y, y_pred)))"
   ]
  }
 ],
 "metadata": {
  "kernelspec": {
   "display_name": "Python 3",
   "language": "python",
   "name": "python3"
  },
  "language_info": {
   "codemirror_mode": {
    "name": "ipython",
    "version": 3
   },
   "file_extension": ".py",
   "mimetype": "text/x-python",
   "name": "python",
   "nbconvert_exporter": "python",
   "pygments_lexer": "ipython3",
   "version": "3.6.4"
  }
 },
 "nbformat": 4,
 "nbformat_minor": 2
}
